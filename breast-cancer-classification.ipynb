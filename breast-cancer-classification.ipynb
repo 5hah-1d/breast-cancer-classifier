{
 "cells": [
  {
   "cell_type": "markdown",
   "id": "f0c7015b",
   "metadata": {},
   "source": [
    "# 🩺 Breast Cancer Classification (Logistic Regression from Scratch)\n",
    "\n",
    "This project implements a **Logistic Regression model from scratch using Gradient Descent** \n",
    "to classify tumors as **Malignant (cancerous)** or **Benign (non-cancerous)**.  \n",
    "\n",
    "Dataset: [Scikit-learn Breast Cancer Dataset](https://scikit-learn.org/stable/modules/generated/sklearn.datasets.load_breast_cancer.html)\n"
   ]
  },
  {
   "cell_type": "code",
   "execution_count": 1,
   "id": "b1ccfd43",
   "metadata": {},
   "outputs": [],
   "source": [
    "# 1. Import Libraries\n",
    "import numpy as np\n",
    "import pandas as pd\n",
    "import matplotlib.pyplot as plt\n",
    "\n",
    "from sklearn.datasets import load_breast_cancer\n",
    "from sklearn.model_selection import train_test_split\n",
    "from sklearn.preprocessing import StandardScaler\n",
    "from sklearn.metrics import accuracy_score, roc_curve, auc, confusion_matrix, ConfusionMatrixDisplay\n"
   ]
  },
  {
   "cell_type": "markdown",
   "id": "63b3d1c8",
   "metadata": {},
   "source": [
    "## 📊 Load and Explore Dataset\n",
    "We use the **Wisconsin Breast Cancer Dataset** built into scikit-learn.  \n",
    "It contains 30 features and a binary target:  \n",
    "- `0 = Malignant`  \n",
    "- `1 = Benign`  \n"
   ]
  },
  {
   "cell_type": "code",
   "execution_count": 2,
   "id": "fcdd04bf",
   "metadata": {},
   "outputs": [
    {
     "data": {
      "text/html": [
       "<div>\n",
       "<style scoped>\n",
       "    .dataframe tbody tr th:only-of-type {\n",
       "        vertical-align: middle;\n",
       "    }\n",
       "\n",
       "    .dataframe tbody tr th {\n",
       "        vertical-align: top;\n",
       "    }\n",
       "\n",
       "    .dataframe thead th {\n",
       "        text-align: right;\n",
       "    }\n",
       "</style>\n",
       "<table border=\"1\" class=\"dataframe\">\n",
       "  <thead>\n",
       "    <tr style=\"text-align: right;\">\n",
       "      <th></th>\n",
       "      <th>mean radius</th>\n",
       "      <th>mean texture</th>\n",
       "      <th>mean perimeter</th>\n",
       "      <th>mean area</th>\n",
       "      <th>mean smoothness</th>\n",
       "      <th>mean compactness</th>\n",
       "      <th>mean concavity</th>\n",
       "      <th>mean concave points</th>\n",
       "      <th>mean symmetry</th>\n",
       "      <th>mean fractal dimension</th>\n",
       "      <th>...</th>\n",
       "      <th>worst texture</th>\n",
       "      <th>worst perimeter</th>\n",
       "      <th>worst area</th>\n",
       "      <th>worst smoothness</th>\n",
       "      <th>worst compactness</th>\n",
       "      <th>worst concavity</th>\n",
       "      <th>worst concave points</th>\n",
       "      <th>worst symmetry</th>\n",
       "      <th>worst fractal dimension</th>\n",
       "      <th>target</th>\n",
       "    </tr>\n",
       "  </thead>\n",
       "  <tbody>\n",
       "    <tr>\n",
       "      <th>0</th>\n",
       "      <td>17.99</td>\n",
       "      <td>10.38</td>\n",
       "      <td>122.80</td>\n",
       "      <td>1001.0</td>\n",
       "      <td>0.11840</td>\n",
       "      <td>0.27760</td>\n",
       "      <td>0.3001</td>\n",
       "      <td>0.14710</td>\n",
       "      <td>0.2419</td>\n",
       "      <td>0.07871</td>\n",
       "      <td>...</td>\n",
       "      <td>17.33</td>\n",
       "      <td>184.60</td>\n",
       "      <td>2019.0</td>\n",
       "      <td>0.1622</td>\n",
       "      <td>0.6656</td>\n",
       "      <td>0.7119</td>\n",
       "      <td>0.2654</td>\n",
       "      <td>0.4601</td>\n",
       "      <td>0.11890</td>\n",
       "      <td>0</td>\n",
       "    </tr>\n",
       "    <tr>\n",
       "      <th>1</th>\n",
       "      <td>20.57</td>\n",
       "      <td>17.77</td>\n",
       "      <td>132.90</td>\n",
       "      <td>1326.0</td>\n",
       "      <td>0.08474</td>\n",
       "      <td>0.07864</td>\n",
       "      <td>0.0869</td>\n",
       "      <td>0.07017</td>\n",
       "      <td>0.1812</td>\n",
       "      <td>0.05667</td>\n",
       "      <td>...</td>\n",
       "      <td>23.41</td>\n",
       "      <td>158.80</td>\n",
       "      <td>1956.0</td>\n",
       "      <td>0.1238</td>\n",
       "      <td>0.1866</td>\n",
       "      <td>0.2416</td>\n",
       "      <td>0.1860</td>\n",
       "      <td>0.2750</td>\n",
       "      <td>0.08902</td>\n",
       "      <td>0</td>\n",
       "    </tr>\n",
       "    <tr>\n",
       "      <th>2</th>\n",
       "      <td>19.69</td>\n",
       "      <td>21.25</td>\n",
       "      <td>130.00</td>\n",
       "      <td>1203.0</td>\n",
       "      <td>0.10960</td>\n",
       "      <td>0.15990</td>\n",
       "      <td>0.1974</td>\n",
       "      <td>0.12790</td>\n",
       "      <td>0.2069</td>\n",
       "      <td>0.05999</td>\n",
       "      <td>...</td>\n",
       "      <td>25.53</td>\n",
       "      <td>152.50</td>\n",
       "      <td>1709.0</td>\n",
       "      <td>0.1444</td>\n",
       "      <td>0.4245</td>\n",
       "      <td>0.4504</td>\n",
       "      <td>0.2430</td>\n",
       "      <td>0.3613</td>\n",
       "      <td>0.08758</td>\n",
       "      <td>0</td>\n",
       "    </tr>\n",
       "    <tr>\n",
       "      <th>3</th>\n",
       "      <td>11.42</td>\n",
       "      <td>20.38</td>\n",
       "      <td>77.58</td>\n",
       "      <td>386.1</td>\n",
       "      <td>0.14250</td>\n",
       "      <td>0.28390</td>\n",
       "      <td>0.2414</td>\n",
       "      <td>0.10520</td>\n",
       "      <td>0.2597</td>\n",
       "      <td>0.09744</td>\n",
       "      <td>...</td>\n",
       "      <td>26.50</td>\n",
       "      <td>98.87</td>\n",
       "      <td>567.7</td>\n",
       "      <td>0.2098</td>\n",
       "      <td>0.8663</td>\n",
       "      <td>0.6869</td>\n",
       "      <td>0.2575</td>\n",
       "      <td>0.6638</td>\n",
       "      <td>0.17300</td>\n",
       "      <td>0</td>\n",
       "    </tr>\n",
       "    <tr>\n",
       "      <th>4</th>\n",
       "      <td>20.29</td>\n",
       "      <td>14.34</td>\n",
       "      <td>135.10</td>\n",
       "      <td>1297.0</td>\n",
       "      <td>0.10030</td>\n",
       "      <td>0.13280</td>\n",
       "      <td>0.1980</td>\n",
       "      <td>0.10430</td>\n",
       "      <td>0.1809</td>\n",
       "      <td>0.05883</td>\n",
       "      <td>...</td>\n",
       "      <td>16.67</td>\n",
       "      <td>152.20</td>\n",
       "      <td>1575.0</td>\n",
       "      <td>0.1374</td>\n",
       "      <td>0.2050</td>\n",
       "      <td>0.4000</td>\n",
       "      <td>0.1625</td>\n",
       "      <td>0.2364</td>\n",
       "      <td>0.07678</td>\n",
       "      <td>0</td>\n",
       "    </tr>\n",
       "  </tbody>\n",
       "</table>\n",
       "<p>5 rows × 31 columns</p>\n",
       "</div>"
      ],
      "text/plain": [
       "   mean radius  mean texture  mean perimeter  mean area  mean smoothness  \\\n",
       "0        17.99         10.38          122.80     1001.0          0.11840   \n",
       "1        20.57         17.77          132.90     1326.0          0.08474   \n",
       "2        19.69         21.25          130.00     1203.0          0.10960   \n",
       "3        11.42         20.38           77.58      386.1          0.14250   \n",
       "4        20.29         14.34          135.10     1297.0          0.10030   \n",
       "\n",
       "   mean compactness  mean concavity  mean concave points  mean symmetry  \\\n",
       "0           0.27760          0.3001              0.14710         0.2419   \n",
       "1           0.07864          0.0869              0.07017         0.1812   \n",
       "2           0.15990          0.1974              0.12790         0.2069   \n",
       "3           0.28390          0.2414              0.10520         0.2597   \n",
       "4           0.13280          0.1980              0.10430         0.1809   \n",
       "\n",
       "   mean fractal dimension  ...  worst texture  worst perimeter  worst area  \\\n",
       "0                 0.07871  ...          17.33           184.60      2019.0   \n",
       "1                 0.05667  ...          23.41           158.80      1956.0   \n",
       "2                 0.05999  ...          25.53           152.50      1709.0   \n",
       "3                 0.09744  ...          26.50            98.87       567.7   \n",
       "4                 0.05883  ...          16.67           152.20      1575.0   \n",
       "\n",
       "   worst smoothness  worst compactness  worst concavity  worst concave points  \\\n",
       "0            0.1622             0.6656           0.7119                0.2654   \n",
       "1            0.1238             0.1866           0.2416                0.1860   \n",
       "2            0.1444             0.4245           0.4504                0.2430   \n",
       "3            0.2098             0.8663           0.6869                0.2575   \n",
       "4            0.1374             0.2050           0.4000                0.1625   \n",
       "\n",
       "   worst symmetry  worst fractal dimension  target  \n",
       "0          0.4601                  0.11890       0  \n",
       "1          0.2750                  0.08902       0  \n",
       "2          0.3613                  0.08758       0  \n",
       "3          0.6638                  0.17300       0  \n",
       "4          0.2364                  0.07678       0  \n",
       "\n",
       "[5 rows x 31 columns]"
      ]
     },
     "execution_count": 2,
     "metadata": {},
     "output_type": "execute_result"
    }
   ],
   "source": [
    "# Load dataset\n",
    "data = load_breast_cancer()\n",
    "df = pd.DataFrame(data.data, columns=data.feature_names)\n",
    "df['target'] = data.target\n",
    "\n",
    "# Show first 5 rows\n",
    "df.head()\n"
   ]
  },
  {
   "cell_type": "markdown",
   "id": "a507b88a",
   "metadata": {},
   "source": [
    "## 📈 Visualizations\n",
    "We start with:  \n",
    "1. Distribution of classes (Malignant vs Benign)  \n",
    "2. Distribution of one feature (`mean radius`)  \n"
   ]
  },
  {
   "cell_type": "code",
   "execution_count": 3,
   "id": "9e4a4a44",
   "metadata": {},
   "outputs": [
    {
     "data": {
      "image/png": "[encoded data removed]",
      "text/plain": [
       "<Figure size 600x400 with 1 Axes>"
      ]
     },
     "metadata": {},
     "output_type": "display_data"
    },
    {
     "data": {
      "image/png": "[encoded data removed]",
      "text/plain": [
       "<Figure size 600x400 with 1 Axes>"
      ]
     },
     "metadata": {},
     "output_type": "display_data"
    }
   ],
   "source": [
    "# Class distribution\n",
    "plt.figure(figsize=(6,4))\n",
    "df['target'].value_counts().plot(kind='bar', color=['red', 'green'])\n",
    "plt.xticks([0, 1], ['Malignant', 'Benign'], rotation=0)\n",
    "plt.title(\"Distribution of Diagnosis Classes\")\n",
    "plt.ylabel(\"Number of Samples\")\n",
    "plt.xlabel(\"Class\")\n",
    "plt.show()\n",
    "\n",
    "# Feature distribution\n",
    "plt.figure(figsize=(6,4))\n",
    "plt.hist(df['mean radius'], bins=30, color='skyblue', edgecolor='black')\n",
    "plt.title(\"Distribution of Mean Radius\")\n",
    "plt.xlabel(\"Mean Radius\")\n",
    "plt.ylabel(\"Frequency\")\n",
    "plt.grid(True)\n",
    "plt.show()\n"
   ]
  },
  {
   "cell_type": "markdown",
   "id": "ba49f4dc",
   "metadata": {},
   "source": [
    "## 🔧 Preprocessing\n",
    "- Split dataset into train/test sets  \n",
    "- Standardize features (important for gradient descent)  \n",
    "- Add bias term (intercept) manually  \n"
   ]
  },
  {
   "cell_type": "code",
   "execution_count": 4,
   "id": "1cf7a708",
   "metadata": {},
   "outputs": [],
   "source": [
    "# Train-test split\n",
    "X = data.data\n",
    "y = data.target\n",
    "X_train, X_test, y_train, y_test = train_test_split(X, y, test_size=0.2, random_state=42)\n",
    "\n",
    "# Standardize\n",
    "scaler = StandardScaler()\n",
    "X_train = scaler.fit_transform(X_train)\n",
    "X_test = scaler.transform(X_test)\n",
    "\n",
    "# Add bias\n",
    "X_train = np.c_[np.ones(X_train.shape[0]), X_train]\n",
    "X_test = np.c_[np.ones(X_test.shape[0]), X_test]\n"
   ]
  },
  {
   "cell_type": "markdown",
   "id": "e3435c62",
   "metadata": {},
   "source": [
    "## ⚙️ Logistic Regression Implementation (From Scratch)\n",
    "We implement:  \n",
    "- **Sigmoid function**  \n",
    "- **Cross-entropy loss**  \n",
    "- **Gradient descent optimization**  \n"
   ]
  },
  {
   "cell_type": "code",
   "execution_count": 5,
   "id": "0cf90e97",
   "metadata": {},
   "outputs": [],
   "source": [
    "# Sigmoid\n",
    "def sigmoid(z):\n",
    "    return 1 / (1 + np.exp(-z))\n",
    "\n",
    "# Loss\n",
    "def compute_loss(y, y_hat):\n",
    "    eps = 1e-15\n",
    "    return -np.mean(y * np.log(y_hat + eps) + (1 - y) * np.log(1 - y_hat + eps))\n",
    "\n",
    "# Gradient Descent\n",
    "def gradient_descent(X, y, lr=0.01, epochs=1000):\n",
    "    m, n = X.shape\n",
    "    weights = np.zeros(n)\n",
    "    loss_history = []\n",
    "\n",
    "    for epoch in range(epochs):\n",
    "        z = np.dot(X, weights)\n",
    "        y_hat = sigmoid(z)\n",
    "        error = y_hat - y\n",
    "\n",
    "        gradient = np.dot(X.T, error) / m\n",
    "        weights -= lr * gradient\n",
    "\n",
    "        if epoch % 100 == 0:\n",
    "            loss = compute_loss(y, y_hat)\n",
    "            loss_history.append(loss)\n",
    "\n",
    "    return weights, loss_history\n",
    "\n",
    "# Train model\n",
    "weights, loss_history = gradient_descent(X_train, y_train, lr=0.1, epochs=1000)\n"
   ]
  },
  {
   "cell_type": "markdown",
   "id": "e489415b",
   "metadata": {},
   "source": [
    "## 📊 Model Evaluation\n",
    "We evaluate the model using:  \n",
    "- Accuracy (Train & Test)  \n",
    "- ROC curve and AUC score  \n",
    "- Confusion matrix  \n"
   ]
  },
  {
   "cell_type": "code",
   "execution_count": 6,
   "id": "5cb3a84c",
   "metadata": {},
   "outputs": [
    {
     "name": "stdout",
     "output_type": "stream",
     "text": [
      "Train Accuracy: 0.9868\n",
      "Test Accuracy: 0.9825\n"
     ]
    },
    {
     "data": {
      "image/png": "[encoded data removed]",
      "text/plain": [
       "<Figure size 600x500 with 1 Axes>"
      ]
     },
     "metadata": {},
     "output_type": "display_data"
    },
    {
     "data": {
      "image/png": "[encoded data removed]",
      "text/plain": [
       "<Figure size 640x480 with 2 Axes>"
      ]
     },
     "metadata": {},
     "output_type": "display_data"
    }
   ],
   "source": [
    "# Prediction function\n",
    "def predict(X, weights, threshold=0.5):\n",
    "    probs = sigmoid(np.dot(X, weights))\n",
    "    return (probs >= threshold).astype(int), probs\n",
    "\n",
    "# Predictions\n",
    "y_pred_train, _ = predict(X_train, weights)\n",
    "y_pred_test, y_probs_test = predict(X_test, weights)\n",
    "\n",
    "# Accuracy\n",
    "print(f\"Train Accuracy: {accuracy_score(y_train, y_pred_train):.4f}\")\n",
    "print(f\"Test Accuracy: {accuracy_score(y_test, y_pred_test):.4f}\")\n",
    "\n",
    "# ROC Curve\n",
    "fpr, tpr, thresholds = roc_curve(y_test, y_probs_test)\n",
    "roc_auc = auc(fpr, tpr)\n",
    "\n",
    "plt.figure(figsize=(6,5))\n",
    "plt.plot(fpr, tpr, label=f\"AUC = {roc_auc:.2f}\")\n",
    "plt.plot([0,1],[0,1],'--', color='gray')\n",
    "plt.xlabel(\"False Positive Rate\")\n",
    "plt.ylabel(\"True Positive Rate\")\n",
    "plt.title(\"ROC Curve\")\n",
    "plt.legend()\n",
    "plt.grid(True)\n",
    "plt.show()\n",
    "\n",
    "# Confusion Matrix\n",
    "cm = confusion_matrix(y_test, y_pred_test)\n",
    "disp = ConfusionMatrixDisplay(confusion_matrix=cm, display_labels=['Malignant','Benign'])\n",
    "disp.plot(cmap=\"Blues\")\n",
    "plt.show()\n"
   ]
  },
  {
   "cell_type": "markdown",
   "id": "f4b9b29b",
   "metadata": {},
   "source": [
    "## 🧪 Custom Sample Prediction\n",
    "Now, let’s test the model on a **dummy input** (random values shaped like the dataset).  \n"
   ]
  },
  {
   "cell_type": "code",
   "execution_count": 7,
   "id": "6cb2c2e6",
   "metadata": {},
   "outputs": [
    {
     "name": "stdout",
     "output_type": "stream",
     "text": [
      "Predicted Probability: 0.0000\n",
      "Predicted Class: 0 (Malignant)\n"
     ]
    }
   ],
   "source": [
    "# Example custom sample\n",
    "custom_sample_raw = np.array([15.0, 20.0, 100.0, 900.0, 0.1, 0.2, 0.3, 0.4, 0.5, 0.1,\n",
    "                              0.2, 0.3, 1.0, 2.0, 3.0, 0.05, 0.06, 0.07, 0.08, 0.09,\n",
    "                              16.0, 25.0, 120.0, 1000.0, 0.12, 0.25, 0.35, 0.45, 0.55, 0.15])\n",
    "\n",
    "# Scale & add bias\n",
    "custom_sample_scaled = scaler.transform([custom_sample_raw])\n",
    "custom_sample_processed = np.c_[np.ones((1,1)), custom_sample_scaled]\n",
    "\n",
    "# Predict\n",
    "prob = sigmoid(np.dot(custom_sample_processed, weights))[0]\n",
    "pred = 1 if prob >= 0.5 else 0\n",
    "\n",
    "print(f\"Predicted Probability: {prob:.4f}\")\n",
    "print(f\"Predicted Class: {pred} ({'Benign' if pred==1 else 'Malignant'})\")\n"
   ]
  },
  {
   "cell_type": "markdown",
   "id": "b790da1e",
   "metadata": {},
   "source": [
    "# ✅ Summary\n",
    "- Implemented Logistic Regression from scratch using Gradient Descent  \n",
    "- Achieved high accuracy on Breast Cancer dataset (~97% Test Accuracy)  \n",
    "- Evaluated with ROC & AUC, confusion matrix  \n",
    "- Built demo for custom predictions  \n",
    "\n",
    "This notebook is now ready for GitHub 🚀\n"
   ]
  }
 ],
 "metadata": {
  "kernelspec": {
   "display_name": "Python 3",
   "language": "python",
   "name": "python3"
  },
  "language_info": {
   "codemirror_mode": {
    "name": "ipython",
    "version": 3
   },
   "file_extension": ".py",
   "mimetype": "text/x-python",
   "name": "python",
   "nbconvert_exporter": "python",
   "pygments_lexer": "ipython3",
   "version": "3.12.3"
  }
 },
 "nbformat": 4,
 "nbformat_minor": 5
}
